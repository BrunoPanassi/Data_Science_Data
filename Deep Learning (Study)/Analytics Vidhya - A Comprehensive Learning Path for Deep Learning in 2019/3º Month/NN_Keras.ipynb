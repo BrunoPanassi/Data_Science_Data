{
 "cells": [
  {
   "cell_type": "code",
   "execution_count": 17,
   "metadata": {},
   "outputs": [
    {
     "name": "stdout",
     "output_type": "stream",
     "text": [
      "Populating the interactive namespace from numpy and matplotlib\n"
     ]
    },
    {
     "name": "stderr",
     "output_type": "stream",
     "text": [
      "C:\\Users\\Bruno.Panassi\\Anaconda3\\lib\\site-packages\\IPython\\core\\magics\\pylab.py:160: UserWarning: pylab import has clobbered these variables: ['imread', 'seed']\n",
      "`%matplotlib` prevents importing * from pylab and numpy\n",
      "  \"\\n`%matplotlib` prevents importing * from pylab and numpy\"\n"
     ]
    }
   ],
   "source": [
    "#Importing the libraries\n",
    "\n",
    "%pylab inline\n",
    "# it´s a line-oriented 'magic function' with the 'inline' as backend\n",
    "import os\n",
    "import numpy as np\n",
    "import pandas as pd\n",
    "from scipy.misc import imread #From scipy.misc i just want the imread\n",
    "from sklearn.metrics import accuracy_score\n",
    "import tensorflow as tf\n",
    "import keras as k\n",
    "\n",
    "#Setting a seed value to control the models randomness\n",
    "\n",
    "seed = 128\n",
    "rng = np.random.RandomState(seed) #rng it´s a instance of the class RandomState\n",
    "\n",
    "#Seeting the directory paths, for safekeeping\n",
    "\n",
    "root_dir = os.path.abspath('Path') #Create a folder in your directory\n",
    "data_dir = os.path.join(root_dir, 'data') #Join folders in that directory\n",
    "sub_dir  = os.path.join(root_dir, 'sub')\n",
    "\n",
    "#Check if exists\n",
    "os.path.exists(root_dir)\n",
    "os.path.exists(data_dir)\n",
    "os.path.exists(sub_dir)\n",
    "\n",
    "#Loading and Preprocessing the data\n",
    "\n",
    "#Convert to CSV\n",
    "def convert(imgf, labelf, outf, n):\n",
    "    f = open(imgf, \"rb\")\n",
    "    o = open(outf, \"w\")\n",
    "    l = open(labelf, \"rb\")\n",
    "\n",
    "    f.read(16)\n",
    "    l.read(8)\n",
    "    images = []\n",
    "\n",
    "    for i in range(n):\n",
    "        image = [ord(l.read(1))]\n",
    "        for j in range(28*28):\n",
    "            image.append(ord(f.read(1)))\n",
    "        images.append(image)\n",
    "\n",
    "    for image in images:\n",
    "        o.write(\",\".join(str(pix) for pix in image)+\"\\n\")\n",
    "    f.close()\n",
    "    o.close()\n",
    "    l.close()\n",
    "\n",
    "#Converting\n",
    "convert(os.path.join(data_dir, 'Train', 'train-images.idx3-ubyte'), os.path.join(data_dir, 'Train', 'train-labels.idx1-ubyte'), 'mnist_train.csv', 60000)\n",
    "convert(os.path.join(data_dir, 'Test', 't10k-images.idx3-ubyte'),   os.path.join(data_dir, 'Test', 't10k-labels.idx1-ubyte'), 'mnist_test.csv', 10000)\n",
    "\n",
    "#Reading the file\n",
    "train_orig = pd.read_csv('mnist_train.csv')\n",
    "test_orig = pd.read_csv('mnist_test.csv')\n",
    "\n",
    "#Rename the files because the columns names don´t match\n",
    "train_orig.rename(columns={'5':'label'}, inplace=True)\n",
    "test_orig.rename(columns={'7':'label'}, inplace=True)\n"
   ]
  }
 ],
 "metadata": {
  "kernelspec": {
   "display_name": "Python 3",
   "language": "python",
   "name": "python3"
  },
  "language_info": {
   "codemirror_mode": {
    "name": "ipython",
    "version": 3
   },
   "file_extension": ".py",
   "mimetype": "text/x-python",
   "name": "python",
   "nbconvert_exporter": "python",
   "pygments_lexer": "ipython3",
   "version": "3.7.1"
  }
 },
 "nbformat": 4,
 "nbformat_minor": 2
}
